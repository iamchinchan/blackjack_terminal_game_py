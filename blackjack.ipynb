{
 "cells": [
  {
   "cell_type": "code",
   "execution_count": 1,
   "metadata": {},
   "outputs": [
    {
     "name": "stdout",
     "output_type": "stream",
     "text": [
      "Welcome to BlackJack Game!!\n",
      "-------------------------\n",
      "Game Started\n",
      "----------------------\n",
      "\n",
      "----------------------------------\n",
      "\n"
     ]
    },
    {
     "name": "stdin",
     "output_type": "stream",
     "text": [
      "Please enter a bet you want to place:  150\n"
     ]
    },
    {
     "name": "stdout",
     "output_type": "stream",
     "text": [
      "you cannot place a bet greater than your chips: your avaialble chips are: 100\n"
     ]
    },
    {
     "name": "stdin",
     "output_type": "stream",
     "text": [
      "Please enter a bet you want to place:  10\n"
     ]
    },
    {
     "name": "stdout",
     "output_type": "stream",
     "text": [
      "bet for value: 10 is placed \n",
      "--------------------------------\n",
      "\n",
      "--------------------------------\n",
      "Dealer cards are: \n",
      "First card is hidden\n",
      "Eight of Clubs\n",
      "dealer's hand value is unknown at this time: \n",
      "\n",
      "\n",
      "Player cards are: \n",
      "Nine of Clubs\n",
      "Three of Hearts\n",
      "value of player's hand is:  12\n",
      "\n",
      "--------------------------------\n",
      "\n",
      "-------------------------------\n",
      "press 0 for Hit and press 1 for stand:\n"
     ]
    },
    {
     "name": "stdin",
     "output_type": "stream",
     "text": [
      "enter 0/1 0\n"
     ]
    },
    {
     "name": "stdout",
     "output_type": "stream",
     "text": [
      "------------------------------------\n",
      "\n",
      "\n",
      "--------------------------------\n",
      "Dealer cards are: \n",
      "First card is hidden\n",
      "Eight of Clubs\n",
      "dealer's hand value is unknown at this time: \n",
      "\n",
      "\n",
      "Player cards are: \n",
      "Nine of Clubs\n",
      "Three of Hearts\n",
      "Six of Spades\n",
      "value of player's hand is:  18\n",
      "\n",
      "--------------------------------\n",
      "\n",
      "-------------------------------\n",
      "press 0 for Hit and press 1 for stand:\n"
     ]
    },
    {
     "name": "stdin",
     "output_type": "stream",
     "text": [
      "enter 0/1 1\n"
     ]
    },
    {
     "name": "stdout",
     "output_type": "stream",
     "text": [
      "player stands, dealer's turn\n",
      "------------------------------------\n",
      "\n",
      "\n",
      "--------------------------------\n",
      "Dealer cards are: \n",
      "Jack of Clubs\n",
      "Eight of Clubs\n",
      "value of dealer's hand is:  18\n",
      "\n",
      "\n",
      "Player cards are: \n",
      "Nine of Clubs\n",
      "Three of Hearts\n",
      "Six of Spades\n",
      "value of player's hand is:  18\n",
      "\n",
      "--------------------------------\n",
      "Dealer and Player Tie. Push!!\n",
      "player's remaining chips are: 100\n"
     ]
    },
    {
     "name": "stdin",
     "output_type": "stream",
     "text": [
      "enter y for playing again and n for quitting: y\n"
     ]
    },
    {
     "name": "stdout",
     "output_type": "stream",
     "text": [
      "-------------------------\n",
      "Game Started\n",
      "----------------------\n",
      "\n",
      "----------------------------------\n",
      "\n"
     ]
    },
    {
     "name": "stdin",
     "output_type": "stream",
     "text": [
      "Please enter a bet you want to place:  120\n"
     ]
    },
    {
     "name": "stdout",
     "output_type": "stream",
     "text": [
      "you cannot place a bet greater than your chips: your avaialble chips are: 100\n"
     ]
    },
    {
     "name": "stdin",
     "output_type": "stream",
     "text": [
      "Please enter a bet you want to place:  20\n"
     ]
    },
    {
     "name": "stdout",
     "output_type": "stream",
     "text": [
      "bet for value: 20 is placed \n",
      "--------------------------------\n",
      "\n",
      "--------------------------------\n",
      "Dealer cards are: \n",
      "First card is hidden\n",
      "Two of Hearts\n",
      "dealer's hand value is unknown at this time: \n",
      "\n",
      "\n",
      "Player cards are: \n",
      "Nine of Diamonds\n",
      "Seven of Diamonds\n",
      "value of player's hand is:  16\n",
      "\n",
      "--------------------------------\n",
      "\n",
      "-------------------------------\n",
      "press 0 for Hit and press 1 for stand:\n"
     ]
    },
    {
     "name": "stdin",
     "output_type": "stream",
     "text": [
      "enter 0/1 0\n"
     ]
    },
    {
     "name": "stdout",
     "output_type": "stream",
     "text": [
      "------------------------------------\n",
      "\n",
      "\n",
      "--------------------------------\n",
      "Dealer cards are: \n",
      "First card is hidden\n",
      "Two of Hearts\n",
      "dealer's hand value is unknown at this time: \n",
      "\n",
      "\n",
      "Player cards are: \n",
      "Nine of Diamonds\n",
      "Seven of Diamonds\n",
      "King of Spades\n",
      "value of player's hand is:  26\n",
      "\n",
      "--------------------------------\n",
      "Dealer Wins, Player Busts\n",
      "player's remaining chips are: 80\n"
     ]
    },
    {
     "name": "stdin",
     "output_type": "stream",
     "text": [
      "enter y for playing again and n for quitting: y\n"
     ]
    },
    {
     "name": "stdout",
     "output_type": "stream",
     "text": [
      "-------------------------\n",
      "Game Started\n",
      "----------------------\n",
      "\n",
      "----------------------------------\n",
      "\n"
     ]
    },
    {
     "name": "stdin",
     "output_type": "stream",
     "text": [
      "Please enter a bet you want to place:  81\n"
     ]
    },
    {
     "name": "stdout",
     "output_type": "stream",
     "text": [
      "you cannot place a bet greater than your chips: your avaialble chips are: 80\n"
     ]
    },
    {
     "name": "stdin",
     "output_type": "stream",
     "text": [
      "Please enter a bet you want to place:  20\n"
     ]
    },
    {
     "name": "stdout",
     "output_type": "stream",
     "text": [
      "bet for value: 20 is placed \n",
      "--------------------------------\n",
      "\n",
      "--------------------------------\n",
      "Dealer cards are: \n",
      "First card is hidden\n",
      "Ace of Spades\n",
      "dealer's hand value is unknown at this time: \n",
      "\n",
      "\n",
      "Player cards are: \n",
      "Four of Diamonds\n",
      "Nine of Spades\n",
      "value of player's hand is:  13\n",
      "\n",
      "--------------------------------\n",
      "\n",
      "-------------------------------\n",
      "press 0 for Hit and press 1 for stand:\n"
     ]
    },
    {
     "name": "stdin",
     "output_type": "stream",
     "text": [
      "enter 0/1 0\n"
     ]
    },
    {
     "name": "stdout",
     "output_type": "stream",
     "text": [
      "------------------------------------\n",
      "\n",
      "\n",
      "--------------------------------\n",
      "Dealer cards are: \n",
      "First card is hidden\n",
      "Ace of Spades\n",
      "dealer's hand value is unknown at this time: \n",
      "\n",
      "\n",
      "Player cards are: \n",
      "Four of Diamonds\n",
      "Nine of Spades\n",
      "Nine of Clubs\n",
      "value of player's hand is:  22\n",
      "\n",
      "--------------------------------\n",
      "Dealer Wins, Player Busts\n",
      "player's remaining chips are: 60\n"
     ]
    },
    {
     "name": "stdin",
     "output_type": "stream",
     "text": [
      "enter y for playing again and n for quitting: y\n"
     ]
    },
    {
     "name": "stdout",
     "output_type": "stream",
     "text": [
      "-------------------------\n",
      "Game Started\n",
      "----------------------\n",
      "\n",
      "----------------------------------\n",
      "\n"
     ]
    },
    {
     "name": "stdin",
     "output_type": "stream",
     "text": [
      "Please enter a bet you want to place:  50\n"
     ]
    },
    {
     "name": "stdout",
     "output_type": "stream",
     "text": [
      "bet for value: 50 is placed \n",
      "--------------------------------\n",
      "\n",
      "--------------------------------\n",
      "Dealer cards are: \n",
      "First card is hidden\n",
      "Ten of Hearts\n",
      "dealer's hand value is unknown at this time: \n",
      "\n",
      "\n",
      "Player cards are: \n",
      "Six of Spades\n",
      "Three of Spades\n",
      "value of player's hand is:  9\n",
      "\n",
      "--------------------------------\n",
      "\n",
      "-------------------------------\n",
      "press 0 for Hit and press 1 for stand:\n"
     ]
    },
    {
     "name": "stdin",
     "output_type": "stream",
     "text": [
      "enter 0/1 0\n"
     ]
    },
    {
     "name": "stdout",
     "output_type": "stream",
     "text": [
      "------------------------------------\n",
      "\n",
      "\n",
      "--------------------------------\n",
      "Dealer cards are: \n",
      "First card is hidden\n",
      "Ten of Hearts\n",
      "dealer's hand value is unknown at this time: \n",
      "\n",
      "\n",
      "Player cards are: \n",
      "Six of Spades\n",
      "Three of Spades\n",
      "King of Hearts\n",
      "value of player's hand is:  19\n",
      "\n",
      "--------------------------------\n",
      "\n",
      "-------------------------------\n",
      "press 0 for Hit and press 1 for stand:\n"
     ]
    },
    {
     "name": "stdin",
     "output_type": "stream",
     "text": [
      "enter 0/1 1\n"
     ]
    },
    {
     "name": "stdout",
     "output_type": "stream",
     "text": [
      "player stands, dealer's turn\n",
      "------------------------------------\n",
      "\n",
      "\n",
      "--------------------------------\n",
      "Dealer cards are: \n",
      "Nine of Diamonds\n",
      "Ten of Hearts\n",
      "value of dealer's hand is:  19\n",
      "\n",
      "\n",
      "Player cards are: \n",
      "Six of Spades\n",
      "Three of Spades\n",
      "King of Hearts\n",
      "value of player's hand is:  19\n",
      "\n",
      "--------------------------------\n",
      "Dealer and Player Tie. Push!!\n",
      "player's remaining chips are: 60\n"
     ]
    },
    {
     "name": "stdin",
     "output_type": "stream",
     "text": [
      "enter y for playing again and n for quitting: y\n"
     ]
    },
    {
     "name": "stdout",
     "output_type": "stream",
     "text": [
      "-------------------------\n",
      "Game Started\n",
      "----------------------\n",
      "\n",
      "----------------------------------\n",
      "\n"
     ]
    },
    {
     "name": "stdin",
     "output_type": "stream",
     "text": [
      "Please enter a bet you want to place:  50\n"
     ]
    },
    {
     "name": "stdout",
     "output_type": "stream",
     "text": [
      "bet for value: 50 is placed \n",
      "--------------------------------\n",
      "\n",
      "--------------------------------\n",
      "Dealer cards are: \n",
      "First card is hidden\n",
      "Six of Clubs\n",
      "dealer's hand value is unknown at this time: \n",
      "\n",
      "\n",
      "Player cards are: \n",
      "Seven of Spades\n",
      "Ace of Spades\n",
      "value of player's hand is:  18\n",
      "\n",
      "--------------------------------\n",
      "\n",
      "-------------------------------\n",
      "press 0 for Hit and press 1 for stand:\n"
     ]
    },
    {
     "name": "stdin",
     "output_type": "stream",
     "text": [
      "enter 0/1 1\n"
     ]
    },
    {
     "name": "stdout",
     "output_type": "stream",
     "text": [
      "player stands, dealer's turn\n",
      "------------------------------------\n",
      "\n",
      "\n",
      "--------------------------------\n",
      "Dealer cards are: \n",
      "Nine of Spades\n",
      "Six of Clubs\n",
      "Jack of Diamonds\n",
      "value of dealer's hand is:  25\n",
      "\n",
      "\n",
      "Player cards are: \n",
      "Seven of Spades\n",
      "Ace of Spades\n",
      "value of player's hand is:  18\n",
      "\n",
      "--------------------------------\n",
      "Player Wins, Dealer Busts\n",
      "player's remaining chips are: 110\n"
     ]
    },
    {
     "name": "stdin",
     "output_type": "stream",
     "text": [
      "enter y for playing again and n for quitting: y\n"
     ]
    },
    {
     "name": "stdout",
     "output_type": "stream",
     "text": [
      "-------------------------\n",
      "Game Started\n",
      "----------------------\n",
      "\n",
      "----------------------------------\n",
      "\n"
     ]
    },
    {
     "name": "stdin",
     "output_type": "stream",
     "text": [
      "Please enter a bet you want to place:  80\n"
     ]
    },
    {
     "name": "stdout",
     "output_type": "stream",
     "text": [
      "bet for value: 80 is placed \n",
      "--------------------------------\n",
      "\n",
      "--------------------------------\n",
      "Dealer cards are: \n",
      "First card is hidden\n",
      "Seven of Clubs\n",
      "dealer's hand value is unknown at this time: \n",
      "\n",
      "\n",
      "Player cards are: \n",
      "Five of Hearts\n",
      "King of Diamonds\n",
      "value of player's hand is:  15\n",
      "\n",
      "--------------------------------\n",
      "\n",
      "-------------------------------\n",
      "press 0 for Hit and press 1 for stand:\n"
     ]
    },
    {
     "name": "stdin",
     "output_type": "stream",
     "text": [
      "enter 0/1 0\n"
     ]
    },
    {
     "name": "stdout",
     "output_type": "stream",
     "text": [
      "------------------------------------\n",
      "\n",
      "\n",
      "--------------------------------\n",
      "Dealer cards are: \n",
      "First card is hidden\n",
      "Seven of Clubs\n",
      "dealer's hand value is unknown at this time: \n",
      "\n",
      "\n",
      "Player cards are: \n",
      "Five of Hearts\n",
      "King of Diamonds\n",
      "Jack of Clubs\n",
      "value of player's hand is:  25\n",
      "\n",
      "--------------------------------\n",
      "Dealer Wins, Player Busts\n",
      "player's remaining chips are: 30\n"
     ]
    },
    {
     "name": "stdin",
     "output_type": "stream",
     "text": [
      "enter y for playing again and n for quitting: n\n"
     ]
    },
    {
     "name": "stdout",
     "output_type": "stream",
     "text": [
      "\n",
      "Thanks For Playing BlackJack\n",
      "\n"
     ]
    }
   ],
   "source": [
    "import random\n",
    "\n",
    "suits = ['Hearts', 'Diamonds', 'Spades', 'Clubs']\n",
    "ranks = ['Two', 'Three', 'Four', 'Five', 'Six', 'Seven', 'Eight', 'Nine', 'Ten', 'Jack', 'Queen', 'King', 'Ace']\n",
    "values = {'Two':2, 'Three':3, 'Four':4, 'Five':5, 'Six':6, 'Seven':7, 'Eight':8, 'Nine':9, 'Ten':10, 'Jack':10,\n",
    "         'Queen':10, 'King':10, 'Ace':11}\n",
    "\n",
    "playing = True\n",
    "\n",
    "class Card:\n",
    "    \n",
    "    def __init__(self,suit,rank):\n",
    "        self.suit = suit\n",
    "        self.rank = rank\n",
    "        self.value = values[rank]\n",
    "    \n",
    "    def __str__(self):\n",
    "        return f\"{self.rank} of {self.suit}\"\n",
    "      \n",
    "class Deck:\n",
    "    \n",
    "    def __init__(self):\n",
    "        self.deck = []  # start with an empty list\n",
    "        for suit in suits:\n",
    "            for rank in ranks:\n",
    "                self.deck.append(Card(suit,rank))\n",
    "    \n",
    "    def __str__(self):\n",
    "        return 'Deck has:\\n\\n'+ '\\n'.join([card.__str__() for card in self.deck])\n",
    "\n",
    "    def __len__(self):\n",
    "        return len(self.deck)\n",
    "\n",
    "    def shuffle(self):\n",
    "        random.shuffle(self.deck)\n",
    "        \n",
    "    def deal(self):\n",
    "        return self.deck.pop()\n",
    "      \n",
    "class Hand:\n",
    "    def __init__(self):\n",
    "        self.cards = []  # start with an empty list as we did in the Deck class\n",
    "        self.value = 0   # start with zero value\n",
    "        self.aces = 0    # add an attribute to keep track of aces\n",
    "    \n",
    "    def add_card(self,card):\n",
    "        self.cards.append(card)\n",
    "        self.value += card.value\n",
    "\n",
    "        if card.rank == \"Ace\":\n",
    "            self.aces+=1\n",
    "    \n",
    "    def adjust_for_ace(self):\n",
    "        while self.value>21 and self.aces:\n",
    "            self.aces-=1\n",
    "            self.value-=10\n",
    "            \n",
    "class Chips:\n",
    "    \n",
    "    def __init__(self,total=100):\n",
    "        self.total = total  # This can be set to a default value or supplied by a user input\n",
    "        self.bet = 0\n",
    "        \n",
    "    def win_bet(self):\n",
    "        self.total+= self.bet\n",
    "    \n",
    "    def lose_bet(self):\n",
    "        self.total-= self.bet\n",
    "        \n",
    "def take_bet(chips):\n",
    "    print(f\"\\n----------------------------------\\n\")\n",
    "    while True:\n",
    "        try:\n",
    "            chips.bet = int(input(\"Please enter a bet you want to place: \"))\n",
    "        except:\n",
    "            print(\"please enter a correct digit to place bet: \")\n",
    "        else:\n",
    "            if chips.bet>chips.total:\n",
    "                print(\"you cannot place a bet greater than your chips: your avaialble chips are: {}\".format(chips.total))\n",
    "            else:\n",
    "                print(\"bet for value: {} is placed \\n--------------------------------\".format(chips.bet))\n",
    "                break\n",
    "    \n",
    "def hit(deck,hand):\n",
    "    hand.add_card(deck.deal())\n",
    "    hand.adjust_for_ace()\n",
    "    \n",
    "    \n",
    "def hit_or_stand(deck,player):\n",
    "    global playing  # to control an upcoming while loop\n",
    "    while True:\n",
    "        try:\n",
    "            print(f\"\\n-------------------------------\\npress 0 for Hit and press 1 for stand:\")\n",
    "            val = int(input(\"enter 0/1\"))\n",
    "        except:\n",
    "            print(\"please enter a valis input\")\n",
    "        else:\n",
    "            if val not in [0,1]:\n",
    "                print(f\"please enter either 0 for Hit or 1 for Stand\")\n",
    "            else:\n",
    "                # correct input format and in range\n",
    "                if val:\n",
    "                    print(\"player stands, dealer's turn\")\n",
    "                    playing = False\n",
    "                else:\n",
    "                    hit(deck,player)\n",
    "            break\n",
    "    print(f\"------------------------------------\\n\")\n",
    "    \n",
    "def show_some(player,dealer):\n",
    "    print(f\"\\n--------------------------------\")\n",
    "    print(f\"Dealer cards are: \")\n",
    "    print(f\"First card is hidden\")\n",
    "    print(f\"{dealer.cards[1]}\")\n",
    "    print(f\"dealer's hand value is unknown at this time: \")\n",
    "    print(f\"\\n\")\n",
    "    print(f\"Player cards are: \",*player.cards, sep=\"\\n\")\n",
    "    print(f\"value of player's hand is: \",player.value)\n",
    "    print(f\"\\n--------------------------------\")\n",
    "    \n",
    "    \n",
    "    \n",
    "def show_all(player,dealer):\n",
    "    print(f\"\\n--------------------------------\")\n",
    "    print(f\"Dealer cards are: \",*dealer.cards, sep=\"\\n\")\n",
    "    print(f\"value of dealer's hand is: \",dealer.value)\n",
    "    print(f\"\\n\")\n",
    "    print(f\"Player cards are: \",*player.cards, sep=\"\\n\")\n",
    "    print(f\"value of player's hand is: \",player.value)\n",
    "    print(f\"\\n--------------------------------\")\n",
    "    \n",
    "def player_busts(chips):\n",
    "    print(f\"Dealer Wins, Player Busts\")\n",
    "    chips.lose_bet()\n",
    "\n",
    "def player_wins(chips):\n",
    "    print(f\"Player Wins\")\n",
    "    chips.win_bet()\n",
    "\n",
    "def dealer_busts(chips):\n",
    "    print(f\"Player Wins, Dealer Busts\")\n",
    "    chips.win_bet()\n",
    "    \n",
    "def dealer_wins(chips):\n",
    "    print(f\"Dealer Wins\")\n",
    "    chips.lose_bet()\n",
    "    \n",
    "def push():\n",
    "    print(f\"Dealer and Player Tie. Push!!\")\n",
    "    \n",
    "def play_again():\n",
    "    while True:\n",
    "        play_again  = input(\"enter y for playing again and n for quitting:\")\n",
    "        if play_again.lower()=='y':\n",
    "            return True\n",
    "        elif play_again.lower() == 'n':\n",
    "            return False\n",
    "        else:\n",
    "            print(f\"please enter a correct input\")\n",
    "            continue\n",
    "          \n",
    "print(f\"Welcome to BlackJack Game!!\")\n",
    "player_chips = Chips()\n",
    "while True:\n",
    "    # check if chips are remaining for the user\n",
    "    if player_chips.total<=0:\n",
    "        print(f\"\\n Thanks for playing the game\\nYou dont have enough chips to play the game, please restart the whole game to get fresh 100 chips\\n\")\n",
    "        break\n",
    "    \n",
    "    # Create & shuffle the deck, deal two cards to each player\n",
    "    game_deck = Deck()\n",
    "    game_deck.shuffle()\n",
    "\n",
    "    # create players\n",
    "    player = Hand()\n",
    "    dealer = Hand()\n",
    "    for _ in range(2):\n",
    "        player.add_card(game_deck.deal())\n",
    "        dealer.add_card(game_deck.deal())\n",
    "    # Set up the Player's chips\n",
    "    print(f\"-------------------------\\nGame Started\\n----------------------\")\n",
    "    \n",
    "    # Prompt the Player for their bet\n",
    "    take_bet(player_chips)\n",
    "    \n",
    "    # Show cards (but keep one dealer card hidden)\n",
    "    show_some(player,dealer)   \n",
    "    \n",
    "    \n",
    "    while playing:  # recall this variable from our hit_or_stand function\n",
    "        \n",
    "        # Prompt for Player to Hit or Stand\n",
    "        hit_or_stand(game_deck,player)\n",
    "        \n",
    "        # Show cards (but keep one dealer card hidden)\n",
    "        if playing:\n",
    "            show_some(player,dealer)\n",
    "        \n",
    "        # If player's hand exceeds 21, run player_busts() and break out of loop\n",
    "        if player.value > 21:\n",
    "            player_busts(player_chips)\n",
    "            break\n",
    "\n",
    "    # If Player hasn't busted, play Dealer's hand until Dealer reaches 17\n",
    "    else:\n",
    "        # so player standed at a value and not busted then we will fall in this else block\n",
    "        while dealer.value<17:\n",
    "            hit(game_deck,dealer)\n",
    "        # Show all cards\n",
    "        show_all(player,dealer)\n",
    "        # Run different winning scenarios\n",
    "        # both delaer and player has now drawn the cards:\n",
    "\n",
    "        if(dealer.value>21):\n",
    "            dealer_busts(player_chips)\n",
    "        elif dealer.value == player.value:\n",
    "            push()\n",
    "        elif dealer.value>player.value:\n",
    "            dealer_wins(player_chips)\n",
    "        else:\n",
    "            player_wins(player_chips)\n",
    "    \n",
    "    # Inform Player of their chips total \n",
    "    print(f\"player's remaining chips are: {player_chips.total}\")\n",
    "    playing = True\n",
    "    \n",
    "    # Ask to play again\n",
    "    play_again_var = play_again()\n",
    "    if not play_again_var:\n",
    "        print(f\"\\nThanks For Playing BlackJack\\n\")\n",
    "        break\n",
    "    else:\n",
    "        continue"
   ]
  },
  {
   "cell_type": "code",
   "execution_count": null,
   "metadata": {},
   "outputs": [],
   "source": []
  }
 ],
 "metadata": {
  "kernelspec": {
   "display_name": "Python 3 (ipykernel)",
   "language": "python",
   "name": "python3"
  },
  "language_info": {
   "codemirror_mode": {
    "name": "ipython",
    "version": 3
   },
   "file_extension": ".py",
   "mimetype": "text/x-python",
   "name": "python",
   "nbconvert_exporter": "python",
   "pygments_lexer": "ipython3",
   "version": "3.11.7"
  }
 },
 "nbformat": 4,
 "nbformat_minor": 4
}
